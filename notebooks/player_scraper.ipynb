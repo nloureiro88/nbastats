{
 "cells": [
  {
   "cell_type": "code",
   "execution_count": 1,
   "metadata": {},
   "outputs": [],
   "source": [
    "import numpy as np\n",
    "import pandas as pd\n",
    "import matplotlib.pyplot as plt\n",
    "import seaborn as sns\n",
    "import requests\n",
    "import ipdb\n",
    "from bs4 import BeautifulSoup"
   ]
  },
  {
   "cell_type": "markdown",
   "metadata": {},
   "source": [
    "# Inputs"
   ]
  },
  {
   "cell_type": "code",
   "execution_count": 2,
   "metadata": {},
   "outputs": [],
   "source": [
    "df = pd.read_csv('../raw_data/all_clean.csv')"
   ]
  },
  {
   "cell_type": "code",
   "execution_count": 4,
   "metadata": {},
   "outputs": [],
   "source": [
    "df = df[['Id', 'Player']].drop_duplicates()\n",
    "df.reset_index(inplace=True)\n",
    "df.drop(columns=\"index\", inplace=True)"
   ]
  },
  {
   "cell_type": "code",
   "execution_count": 5,
   "metadata": {},
   "outputs": [
    {
     "data": {
      "text/html": [
       "<div>\n",
       "<style scoped>\n",
       "    .dataframe tbody tr th:only-of-type {\n",
       "        vertical-align: middle;\n",
       "    }\n",
       "\n",
       "    .dataframe tbody tr th {\n",
       "        vertical-align: top;\n",
       "    }\n",
       "\n",
       "    .dataframe thead th {\n",
       "        text-align: right;\n",
       "    }\n",
       "</style>\n",
       "<table border=\"1\" class=\"dataframe\">\n",
       "  <thead>\n",
       "    <tr style=\"text-align: right;\">\n",
       "      <th></th>\n",
       "      <th>Id</th>\n",
       "      <th>Player</th>\n",
       "    </tr>\n",
       "  </thead>\n",
       "  <tbody>\n",
       "    <tr>\n",
       "      <th>0</th>\n",
       "      <td>1</td>\n",
       "      <td>Greg Oden</td>\n",
       "    </tr>\n",
       "    <tr>\n",
       "      <th>1</th>\n",
       "      <td>2</td>\n",
       "      <td>Carl Landry</td>\n",
       "    </tr>\n",
       "    <tr>\n",
       "      <th>2</th>\n",
       "      <td>3</td>\n",
       "      <td>Gabe Pruitt</td>\n",
       "    </tr>\n",
       "    <tr>\n",
       "      <th>3</th>\n",
       "      <td>4</td>\n",
       "      <td>Glen Davis</td>\n",
       "    </tr>\n",
       "    <tr>\n",
       "      <th>4</th>\n",
       "      <td>5</td>\n",
       "      <td>Jermareo Davidson</td>\n",
       "    </tr>\n",
       "    <tr>\n",
       "      <th>...</th>\n",
       "      <td>...</td>\n",
       "      <td>...</td>\n",
       "    </tr>\n",
       "    <tr>\n",
       "      <th>63964</th>\n",
       "      <td>172607</td>\n",
       "      <td>Will Mcaloney</td>\n",
       "    </tr>\n",
       "    <tr>\n",
       "      <th>63965</th>\n",
       "      <td>172628</td>\n",
       "      <td>Kent Salado</td>\n",
       "    </tr>\n",
       "    <tr>\n",
       "      <th>63966</th>\n",
       "      <td>172801</td>\n",
       "      <td>Prince Rivero</td>\n",
       "    </tr>\n",
       "    <tr>\n",
       "      <th>63967</th>\n",
       "      <td>175140</td>\n",
       "      <td>Adrian Riesgo</td>\n",
       "    </tr>\n",
       "    <tr>\n",
       "      <th>63968</th>\n",
       "      <td>175382</td>\n",
       "      <td>Yaroslav Nuagu</td>\n",
       "    </tr>\n",
       "  </tbody>\n",
       "</table>\n",
       "<p>63969 rows × 2 columns</p>\n",
       "</div>"
      ],
      "text/plain": [
       "           Id             Player\n",
       "0           1          Greg Oden\n",
       "1           2        Carl Landry\n",
       "2           3        Gabe Pruitt\n",
       "3           4         Glen Davis\n",
       "4           5  Jermareo Davidson\n",
       "...       ...                ...\n",
       "63964  172607      Will Mcaloney\n",
       "63965  172628        Kent Salado\n",
       "63966  172801      Prince Rivero\n",
       "63967  175140      Adrian Riesgo\n",
       "63968  175382     Yaroslav Nuagu\n",
       "\n",
       "[63969 rows x 2 columns]"
      ]
     },
     "execution_count": 5,
     "metadata": {},
     "output_type": "execute_result"
    }
   ],
   "source": [
    "df"
   ]
  },
  {
   "cell_type": "markdown",
   "metadata": {},
   "source": [
    "# Soup"
   ]
  },
  {
   "cell_type": "code",
   "execution_count": 6,
   "metadata": {},
   "outputs": [],
   "source": [
    "pid = 1\n",
    "url = f'https://basketball.realgm.com/player/a/Summary/{pid}'"
   ]
  },
  {
   "cell_type": "code",
   "execution_count": 7,
   "metadata": {},
   "outputs": [],
   "source": [
    "response = requests.get(url)\n",
    "soup = BeautifulSoup(response.content, \"html.parser\")"
   ]
  },
  {
   "cell_type": "code",
   "execution_count": 8,
   "metadata": {},
   "outputs": [
    {
     "data": {
      "text/plain": [
       "<div class=\"profile-box\">\n",
       "<div class=\"wrapper clearfix container\">\n",
       "<div class=\"half-column-left\" style=\"margin: 0;\">\n",
       "<h2 style=\"margin-top: 0;\">Greg Oden <span class=\"feature\">C</span>  <span class=\"feature\">#20</span></h2>\n",
       "<img src=\"/images/nba/4.2/profiles/photos/2006/Oden_Greg_mia_1314.jpg\" style=\"border: 1px solid #000; float: left; margin-right: 15px; margin-top:5px;\"/>\n",
       "<p><strong>Born:</strong> <a href=\"/info/birthdays/19880122/1\">Jan 22, 1988</a> (32 years old)</p>\n",
       "<p><strong>Birthplace/Hometown:</strong> <a href=\"/info/birth_cities/188/Buffalo-NY-United-States\">Buffalo, New York</a></p>\n",
       "<p><strong>Nationality:</strong> <a href=\"/info/nationality/1/United-States/O\">United States</a></p>\n",
       "<p><strong>Height:</strong> 7-0 (213cm)     <strong>Weight:</strong> 273 (124kg)</p>\n",
       "<p><strong>Website:</strong> <a href=\"http://www.gregoden52.com/\" target=\"_blank\">http://www.gregoden52.com/</a></p>\n",
       "</div>\n",
       "<div class=\"half-column-right\" style=\"margin: 0;\">\n",
       "<img src=\"/images/basketball/5.0/team_logos/ncaa/103-ohio-state.png\" style=\"float:right; margin-left: 5px; margin-top:5px;\"><p><strong>Current NBA Status:</strong> Unrestricted Free Agent</p>\n",
       "<p><strong>Agent:</strong> <a href=\"/info/agent_clients/Bill-Duffy/16\">Bill Duffy</a></p>\n",
       "<p><strong>Draft Entry:</strong> <a href=\"/nba/draft/past_drafts/2007\">2007 NBA Draft</a></p>\n",
       "<p><strong>Early Entry Info:</strong> <a href=\"/nba/draft/early_entry/by_year/2007\">2007 Early Entrant</a></p>\n",
       "<p><strong>Drafted:</strong> <a href=\"/nba/draft/past_drafts/2007\">Round 1, Pick 1, Portland Trail Blazers</a></p>\n",
       "<p><strong>Pre-Draft Team:</strong> <a href=\"/ncaa/conferences/Big-Ten-Conference/2/Ohio-State/103\">Ohio State</a> (Fr)</p>\n",
       "<p><strong>High School:</strong> <a href=\"/highschool/teams/52/Lawrence-North-High-School-IN\">Lawrence North High School</a> [Indianapolis, Indiana]</p>\n",
       "<p><strong>AAU Team:</strong> Spiece Indy Heat</p>\n",
       "</img></div>\n",
       "<div style=\"clear: both;\"></div>\n",
       "</div>\n",
       "</div>"
      ]
     },
     "execution_count": 8,
     "metadata": {},
     "output_type": "execute_result"
    }
   ],
   "source": [
    "box = soup.find(class_=\"profile-box\")\n",
    "box"
   ]
  },
  {
   "cell_type": "markdown",
   "metadata": {},
   "source": [
    "# Info"
   ]
  },
  {
   "cell_type": "code",
   "execution_count": 9,
   "metadata": {},
   "outputs": [
    {
     "data": {
      "text/plain": [
       "'C'"
      ]
     },
     "execution_count": 9,
     "metadata": {},
     "output_type": "execute_result"
    }
   ],
   "source": [
    "position = box.select('h2 > span')[0].text\n",
    "position"
   ]
  },
  {
   "cell_type": "code",
   "execution_count": 10,
   "metadata": {},
   "outputs": [
    {
     "data": {
      "text/plain": [
       "'/images/nba/4.2/profiles/photos/2006/Oden_Greg_mia_1314.jpg'"
      ]
     },
     "execution_count": 10,
     "metadata": {},
     "output_type": "execute_result"
    }
   ],
   "source": [
    "photo = box.find('img', src=True)['src']\n",
    "photo"
   ]
  },
  {
   "cell_type": "code",
   "execution_count": 11,
   "metadata": {},
   "outputs": [
    {
     "data": {
      "text/plain": [
       "'Jan 22, 1988'"
      ]
     },
     "execution_count": 11,
     "metadata": {},
     "output_type": "execute_result"
    }
   ],
   "source": [
    "birthdate = box.find(\"strong\", string=\"Born:\").parent.find('a').text\n",
    "birthdate"
   ]
  },
  {
   "cell_type": "code",
   "execution_count": 12,
   "metadata": {},
   "outputs": [
    {
     "data": {
      "text/plain": [
       "'Buffalo, New York'"
      ]
     },
     "execution_count": 12,
     "metadata": {},
     "output_type": "execute_result"
    }
   ],
   "source": [
    "birthplace = box.find(\"strong\", string=\"Birthplace/Hometown:\").parent.find('a').text\n",
    "birthplace"
   ]
  },
  {
   "cell_type": "code",
   "execution_count": 13,
   "metadata": {},
   "outputs": [
    {
     "data": {
      "text/plain": [
       "'United States'"
      ]
     },
     "execution_count": 13,
     "metadata": {},
     "output_type": "execute_result"
    }
   ],
   "source": [
    "nationality = box.find(\"strong\", string=\"Nationality:\").parent.find('a').text\n",
    "nationality"
   ]
  },
  {
   "cell_type": "code",
   "execution_count": 14,
   "metadata": {},
   "outputs": [
    {
     "data": {
      "text/plain": [
       "('7-0', '273')"
      ]
     },
     "execution_count": 14,
     "metadata": {},
     "output_type": "execute_result"
    }
   ],
   "source": [
    "size = box.find(\"strong\", string=\"Height:\").parent.text.split()\n",
    "height = size[1]\n",
    "weight = size[4]\n",
    "height, weight"
   ]
  },
  {
   "cell_type": "code",
   "execution_count": 15,
   "metadata": {},
   "outputs": [
    {
     "data": {
      "text/plain": [
       "'Unrestricted Free Agent'"
      ]
     },
     "execution_count": 15,
     "metadata": {},
     "output_type": "execute_result"
    }
   ],
   "source": [
    "nba_status = box.find(\"strong\", string=\"Current NBA Status:\").parent.text.split(\":\")[1].strip()\n",
    "nba_status"
   ]
  },
  {
   "cell_type": "code",
   "execution_count": 16,
   "metadata": {},
   "outputs": [
    {
     "data": {
      "text/plain": [
       "'Bill Duffy'"
      ]
     },
     "execution_count": 16,
     "metadata": {},
     "output_type": "execute_result"
    }
   ],
   "source": [
    "agent = box.find(\"strong\", string=\"Agent:\").parent.find('a').text\n",
    "agent"
   ]
  },
  {
   "cell_type": "code",
   "execution_count": 17,
   "metadata": {},
   "outputs": [
    {
     "data": {
      "text/plain": [
       "('Lawrence North High School', 'Indianapolis, Indiana')"
      ]
     },
     "execution_count": 17,
     "metadata": {},
     "output_type": "execute_result"
    }
   ],
   "source": [
    "hs_info = box.find(\"strong\", string=\"High School:\").parent\n",
    "highschool = hs_info.find('a').text\n",
    "hslocation = hs_info.text.split('[')[1].strip(']')\n",
    "highschool, hslocation"
   ]
  },
  {
   "cell_type": "code",
   "execution_count": 18,
   "metadata": {},
   "outputs": [
    {
     "data": {
      "text/plain": [
       "'2007 NBA Draft'"
      ]
     },
     "execution_count": 18,
     "metadata": {},
     "output_type": "execute_result"
    }
   ],
   "source": [
    "draft_entry = box.find(\"strong\", string=\"Draft Entry:\").parent.find('a').text\n",
    "draft_entry"
   ]
  },
  {
   "cell_type": "code",
   "execution_count": 19,
   "metadata": {},
   "outputs": [
    {
     "data": {
      "text/plain": [
       "'2007 Early Entrant'"
      ]
     },
     "execution_count": 19,
     "metadata": {},
     "output_type": "execute_result"
    }
   ],
   "source": [
    "draft_early = box.find(\"strong\", string=\"Early Entry Info:\").parent.find('a').text\n",
    "draft_early"
   ]
  },
  {
   "cell_type": "code",
   "execution_count": 20,
   "metadata": {},
   "outputs": [
    {
     "data": {
      "text/plain": [
       "'Round 1, Pick 1, Portland Trail Blazers'"
      ]
     },
     "execution_count": 20,
     "metadata": {},
     "output_type": "execute_result"
    }
   ],
   "source": [
    "drafted = box.find(\"strong\", string=\"Drafted:\").parent.find('a').text\n",
    "drafted"
   ]
  },
  {
   "cell_type": "code",
   "execution_count": 21,
   "metadata": {},
   "outputs": [
    {
     "data": {
      "text/plain": [
       "'Ohio State'"
      ]
     },
     "execution_count": 21,
     "metadata": {},
     "output_type": "execute_result"
    }
   ],
   "source": [
    "predraft_team = box.find(\"strong\", string=\"Pre-Draft Team:\").parent.find('a').text\n",
    "predraft_team"
   ]
  },
  {
   "cell_type": "markdown",
   "metadata": {},
   "source": [
    "# Basic Function"
   ]
  },
  {
   "cell_type": "code",
   "execution_count": 22,
   "metadata": {},
   "outputs": [],
   "source": [
    "def scrape_player(id):\n",
    "    url = f'https://basketball.realgm.com/player/a/Summary/{id}'\n",
    "    response = requests.get(url)\n",
    "    soup = BeautifulSoup(response.content, \"html.parser\")\n",
    "    box = soup.find(class_=\"profile-box\")\n",
    "    \n",
    "    if box:\n",
    "        position = box.select('h2 > span')[0].text\n",
    "        \n",
    "        birthdate_info = box.find(\"strong\", string=\"Born:\")\n",
    "        if birthdate_info: \n",
    "            birthdate = birthdate_info.parent.find('a').text\n",
    "        else:\n",
    "            birthdate = None\n",
    "        \n",
    "        birthplace_info = box.find(\"strong\", string=\"Birthplace/Hometown:\")\n",
    "        if birthplace_info: \n",
    "            birthplace = birthplace_info.parent.find('a').text\n",
    "        else:\n",
    "            birthplace = None\n",
    "        \n",
    "        size_info = box.find(\"strong\", string=\"Height:\")\n",
    "        if size_info:\n",
    "            size = size_info.parent.text.split()\n",
    "            height, weight = size[1], size[4]\n",
    "        else:\n",
    "            height, weight = None, None\n",
    "            \n",
    "        nba_status_info = box.find(\"strong\", string=\"Current NBA Status:\")\n",
    "        if nba_status_info: \n",
    "            nba_status = nba_status_info.parent.text.split(\":\")[1].strip()\n",
    "        else:\n",
    "            nba_status = None\n",
    "            \n",
    "        agent_info = box.find(\"strong\", string=\"Agent:\")\n",
    "        if agent_info: \n",
    "            agent = agent_info.parent.find('a').text\n",
    "        else:\n",
    "            agent = None\n",
    "        \n",
    "        hs_info = box.find(\"strong\", string=\"High School:\")\n",
    "        if hs_info:\n",
    "            hs = hs_info.parent\n",
    "            highschool = hs.find('a').text\n",
    "            hslocation = hs.text.split('[')[1].strip(']')\n",
    "        else:\n",
    "            highschool = None\n",
    "            hslocation = None\n",
    "            \n",
    "        draft_entry_info = box.find(\"strong\", string=\"Draft Entry:\")\n",
    "        if draft_entry_info: \n",
    "            draft_entry = draft_entry_info.parent.text\n",
    "        else:\n",
    "            draft_entry = None\n",
    "            \n",
    "        draft_early_info = box.find(\"strong\", string=\"Early Entry Info:\")\n",
    "        if draft_early_info: \n",
    "            draft_early = draft_early_info.parent.find('a').text\n",
    "        else:\n",
    "            draft_early = None\n",
    "            \n",
    "        drafted_info = box.find(\"strong\", string=\"Drafted:\")\n",
    "        if drafted_info: \n",
    "            drafted = drafted_info.parent.text\n",
    "        else:\n",
    "            drafted = None\n",
    "            \n",
    "        predraft_team_info = box.find(\"strong\", string=\"Pre-Draft Team:\")\n",
    "        if predraft_team_info: \n",
    "            predraft_team = predraft_team_info.parent.find('a').text\n",
    "        else:\n",
    "            predraft_team = None\n",
    "        \n",
    "        photo = box.find('img', src=True)['src']\n",
    "        \n",
    "        data = {'Position': position,\n",
    "                'Birthdate': birthdate,\n",
    "                'Birthplace': birthplace,\n",
    "                'Height': height,\n",
    "                'Weight': weight,\n",
    "                'Status': nba_status,\n",
    "                'Agent': agent,\n",
    "                'Highschool': highschool,\n",
    "                'HsLocation': hslocation,\n",
    "                'DraftEntry': draft_entry,\n",
    "                'DraftEarly': draft_early,\n",
    "                'Drafted': drafted,\n",
    "                'PreDraftTeam': predraft_team,\n",
    "                'Photo': photo}\n",
    "        return data\n",
    "    \n",
    "    return None"
   ]
  },
  {
   "cell_type": "code",
   "execution_count": 23,
   "metadata": {},
   "outputs": [
    {
     "name": "stdout",
     "output_type": "stream",
     "text": [
      "9984\n"
     ]
    }
   ],
   "source": [
    "pid = df['Id'].sample().values[0]\n",
    "print(pid)\n",
    "data = scrape_player(int(pid))"
   ]
  },
  {
   "cell_type": "code",
   "execution_count": 24,
   "metadata": {},
   "outputs": [
    {
     "data": {
      "text/plain": [
       "{'Position': 'PG',\n",
       " 'Birthdate': 'Apr 3, 1984',\n",
       " 'Birthplace': 'Grapevine, Texas',\n",
       " 'Height': '5-10',\n",
       " 'Weight': '175',\n",
       " 'Status': 'Unrestricted Free Agent',\n",
       " 'Agent': None,\n",
       " 'Highschool': 'Colleyville Heritage High School',\n",
       " 'HsLocation': 'Colleyville, Texas',\n",
       " 'DraftEntry': 'Draft Entry: 2006 NBA Draft',\n",
       " 'DraftEarly': None,\n",
       " 'Drafted': 'Drafted: Undrafted',\n",
       " 'PreDraftTeam': 'Texas Christian',\n",
       " 'Photo': '/images/nba/4.2/profiles/photos/2006/player_photo.jpg'}"
      ]
     },
     "execution_count": 24,
     "metadata": {},
     "output_type": "execute_result"
    }
   ],
   "source": [
    "data"
   ]
  },
  {
   "cell_type": "code",
   "execution_count": 29,
   "metadata": {},
   "outputs": [
    {
     "data": {
      "text/plain": [
       "0.16"
      ]
     },
     "execution_count": 29,
     "metadata": {},
     "output_type": "execute_result"
    }
   ],
   "source": [
    "round(100/df.shape[0] * 100, 2)"
   ]
  },
  {
   "cell_type": "code",
   "execution_count": null,
   "metadata": {},
   "outputs": [],
   "source": []
  }
 ],
 "metadata": {
  "kernelspec": {
   "display_name": "Python 3",
   "language": "python",
   "name": "python3"
  },
  "language_info": {
   "codemirror_mode": {
    "name": "ipython",
    "version": 3
   },
   "file_extension": ".py",
   "mimetype": "text/x-python",
   "name": "python",
   "nbconvert_exporter": "python",
   "pygments_lexer": "ipython3",
   "version": "3.7.7"
  },
  "toc": {
   "base_numbering": 1,
   "nav_menu": {},
   "number_sections": true,
   "sideBar": true,
   "skip_h1_title": false,
   "title_cell": "Table of Contents",
   "title_sidebar": "Contents",
   "toc_cell": false,
   "toc_position": {},
   "toc_section_display": true,
   "toc_window_display": false
  }
 },
 "nbformat": 4,
 "nbformat_minor": 4
}
